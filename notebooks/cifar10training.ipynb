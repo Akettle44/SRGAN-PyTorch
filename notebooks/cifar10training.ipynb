{
 "cells": [
  {
   "cell_type": "code",
   "execution_count": 16,
   "metadata": {},
   "outputs": [],
   "source": [
    "import torch\n",
    "import torchvision\n",
    "import os\n",
    "\n",
    "from torchsummary import summary\n",
    "from tqdm import tqdm\n",
    "from torch.utils.data import random_split, DataLoader"
   ]
  },
  {
   "cell_type": "code",
   "execution_count": 46,
   "metadata": {},
   "outputs": [
    {
     "name": "stderr",
     "output_type": "stream",
     "text": [
      "/home/andrew/.pyenv/versions/3.10.12/envs/srgan/lib/python3.10/site-packages/torchvision/models/_utils.py:208: UserWarning: The parameter 'pretrained' is deprecated since 0.13 and may be removed in the future, please use 'weights' instead.\n",
      "  warnings.warn(\n",
      "/home/andrew/.pyenv/versions/3.10.12/envs/srgan/lib/python3.10/site-packages/torchvision/models/_utils.py:223: UserWarning: Arguments other than a weight enum or `None` for 'weights' are deprecated since 0.13 and may be removed in the future. The current behavior is equivalent to passing `weights=VGG11_Weights.IMAGENET1K_V1`. You can also use `weights=VGG11_Weights.DEFAULT` to get the most up-to-date weights.\n",
      "  warnings.warn(msg)\n"
     ]
    }
   ],
   "source": [
    "device = torch.device(\"cuda\" if torch.cuda.is_available() else \"cpu\")\n",
    "\n",
    "# Load model and prep it for CIFAR\n",
    "model = torchvision.models.vgg11(pretrained=True)\n",
    "model.classifier[6] = torch.nn.Linear(4096, 10)\n",
    "for module in model.modules():\n",
    "    if isinstance(module, torch.nn.Dropout):\n",
    "        module.p = 0.1  # Reduce Dropout rate\n",
    "model = model.to(device)\n",
    "\n",
    "# Data Transform\n",
    "transform = torchvision.transforms.Compose([\n",
    "    torchvision.transforms.ToTensor(),\n",
    "    torchvision.transforms.Normalize(mean=[0.4914, 0.4822, 0.4465], std=[0.2470, 0.2435, 0.2616]) # Standard for CIFAR10\n",
    "])\n",
    "\n",
    "# Load dataset\n",
    "dataset_path = os.path.join(os.path.dirname(os.getcwd()), 'datasets/')\n",
    "dataset = torchvision.datasets.CIFAR10(root=dataset_path, train=True, download=False, transform=transform)\n",
    "\n",
    "train_val_test_split = [.7,.15,.15]\n",
    "# Seed split so that it is consistent across multiple runs\n",
    "train_dataset, val_dataset, test_dataset = random_split(dataset, train_val_test_split, generator=torch.Generator().manual_seed(42))\n",
    "train_loader = DataLoader(train_dataset, batch_size=64, shuffle=True, num_workers=8)\n",
    "val_loader = DataLoader(val_dataset, batch_size=64, shuffle=False, num_workers=8)\n",
    "test_loader = DataLoader(test_dataset, batch_size=8, shuffle=False, num_workers=8)"
   ]
  },
  {
   "cell_type": "code",
   "execution_count": 45,
   "metadata": {},
   "outputs": [
    {
     "name": "stdout",
     "output_type": "stream",
     "text": [
      "==========================================================================================\n",
      "Layer (type:depth-idx)                   Output Shape              Param #\n",
      "==========================================================================================\n",
      "├─Sequential: 1-1                        [-1, 512, 1, 1]           --\n",
      "|    └─Conv2d: 2-1                       [-1, 64, 32, 32]          1,792\n",
      "|    └─ReLU: 2-2                         [-1, 64, 32, 32]          --\n",
      "|    └─MaxPool2d: 2-3                    [-1, 64, 16, 16]          --\n",
      "|    └─Conv2d: 2-4                       [-1, 128, 16, 16]         73,856\n",
      "|    └─ReLU: 2-5                         [-1, 128, 16, 16]         --\n",
      "|    └─MaxPool2d: 2-6                    [-1, 128, 8, 8]           --\n",
      "|    └─Conv2d: 2-7                       [-1, 256, 8, 8]           295,168\n",
      "|    └─ReLU: 2-8                         [-1, 256, 8, 8]           --\n",
      "|    └─Conv2d: 2-9                       [-1, 256, 8, 8]           590,080\n",
      "|    └─ReLU: 2-10                        [-1, 256, 8, 8]           --\n",
      "|    └─MaxPool2d: 2-11                   [-1, 256, 4, 4]           --\n",
      "|    └─Conv2d: 2-12                      [-1, 512, 4, 4]           1,180,160\n",
      "|    └─ReLU: 2-13                        [-1, 512, 4, 4]           --\n",
      "|    └─Conv2d: 2-14                      [-1, 512, 4, 4]           2,359,808\n",
      "|    └─ReLU: 2-15                        [-1, 512, 4, 4]           --\n",
      "|    └─MaxPool2d: 2-16                   [-1, 512, 2, 2]           --\n",
      "|    └─Conv2d: 2-17                      [-1, 512, 2, 2]           2,359,808\n",
      "|    └─ReLU: 2-18                        [-1, 512, 2, 2]           --\n",
      "|    └─Conv2d: 2-19                      [-1, 512, 2, 2]           2,359,808\n",
      "|    └─ReLU: 2-20                        [-1, 512, 2, 2]           --\n",
      "|    └─MaxPool2d: 2-21                   [-1, 512, 1, 1]           --\n",
      "├─AdaptiveAvgPool2d: 1-2                 [-1, 512, 7, 7]           --\n",
      "├─Sequential: 1-3                        [-1, 10]                  --\n",
      "|    └─Linear: 2-22                      [-1, 4096]                102,764,544\n",
      "|    └─ReLU: 2-23                        [-1, 4096]                --\n",
      "|    └─Dropout: 2-24                     [-1, 4096]                --\n",
      "|    └─Linear: 2-25                      [-1, 4096]                16,781,312\n",
      "|    └─ReLU: 2-26                        [-1, 4096]                --\n",
      "|    └─Dropout: 2-27                     [-1, 4096]                --\n",
      "|    └─Linear: 2-28                      [-1, 10]                  40,970\n",
      "==========================================================================================\n",
      "Total params: 128,807,306\n",
      "Trainable params: 128,807,306\n",
      "Non-trainable params: 0\n",
      "Total mult-adds (M): 401.14\n",
      "==========================================================================================\n",
      "Input size (MB): 0.01\n",
      "Forward/backward pass size (MB): 1.22\n",
      "Params size (MB): 491.36\n",
      "Estimated Total Size (MB): 492.59\n",
      "==========================================================================================\n",
      "==========================================================================================\n",
      "Layer (type:depth-idx)                   Output Shape              Param #\n",
      "==========================================================================================\n",
      "├─Sequential: 1-1                        [-1, 512, 1, 1]           --\n",
      "|    └─Conv2d: 2-1                       [-1, 64, 32, 32]          1,792\n",
      "|    └─ReLU: 2-2                         [-1, 64, 32, 32]          --\n",
      "|    └─MaxPool2d: 2-3                    [-1, 64, 16, 16]          --\n",
      "|    └─Conv2d: 2-4                       [-1, 128, 16, 16]         73,856\n",
      "|    └─ReLU: 2-5                         [-1, 128, 16, 16]         --\n",
      "|    └─MaxPool2d: 2-6                    [-1, 128, 8, 8]           --\n",
      "|    └─Conv2d: 2-7                       [-1, 256, 8, 8]           295,168\n",
      "|    └─ReLU: 2-8                         [-1, 256, 8, 8]           --\n",
      "|    └─Conv2d: 2-9                       [-1, 256, 8, 8]           590,080\n",
      "|    └─ReLU: 2-10                        [-1, 256, 8, 8]           --\n",
      "|    └─MaxPool2d: 2-11                   [-1, 256, 4, 4]           --\n",
      "|    └─Conv2d: 2-12                      [-1, 512, 4, 4]           1,180,160\n",
      "|    └─ReLU: 2-13                        [-1, 512, 4, 4]           --\n",
      "|    └─Conv2d: 2-14                      [-1, 512, 4, 4]           2,359,808\n",
      "|    └─ReLU: 2-15                        [-1, 512, 4, 4]           --\n",
      "|    └─MaxPool2d: 2-16                   [-1, 512, 2, 2]           --\n",
      "|    └─Conv2d: 2-17                      [-1, 512, 2, 2]           2,359,808\n",
      "|    └─ReLU: 2-18                        [-1, 512, 2, 2]           --\n",
      "|    └─Conv2d: 2-19                      [-1, 512, 2, 2]           2,359,808\n",
      "|    └─ReLU: 2-20                        [-1, 512, 2, 2]           --\n",
      "|    └─MaxPool2d: 2-21                   [-1, 512, 1, 1]           --\n",
      "├─AdaptiveAvgPool2d: 1-2                 [-1, 512, 7, 7]           --\n",
      "├─Sequential: 1-3                        [-1, 10]                  --\n",
      "|    └─Linear: 2-22                      [-1, 4096]                102,764,544\n",
      "|    └─ReLU: 2-23                        [-1, 4096]                --\n",
      "|    └─Dropout: 2-24                     [-1, 4096]                --\n",
      "|    └─Linear: 2-25                      [-1, 4096]                16,781,312\n",
      "|    └─ReLU: 2-26                        [-1, 4096]                --\n",
      "|    └─Dropout: 2-27                     [-1, 4096]                --\n",
      "|    └─Linear: 2-28                      [-1, 10]                  40,970\n",
      "==========================================================================================\n",
      "Total params: 128,807,306\n",
      "Trainable params: 128,807,306\n",
      "Non-trainable params: 0\n",
      "Total mult-adds (M): 401.14\n",
      "==========================================================================================\n",
      "Input size (MB): 0.01\n",
      "Forward/backward pass size (MB): 1.22\n",
      "Params size (MB): 491.36\n",
      "Estimated Total Size (MB): 492.59\n",
      "==========================================================================================\n"
     ]
    }
   ],
   "source": [
    "print(summary(model, (3, 32, 32)))"
   ]
  },
  {
   "cell_type": "code",
   "execution_count": 44,
   "metadata": {},
   "outputs": [
    {
     "name": "stdout",
     "output_type": "stream",
     "text": [
      "features.0.weight tensor(0., device='cuda:0')\n",
      "features.0.bias tensor(0., device='cuda:0')\n",
      "features.3.weight tensor(0., device='cuda:0')\n",
      "features.3.bias tensor(0., device='cuda:0')\n",
      "features.6.weight tensor(0., device='cuda:0')\n",
      "features.6.bias tensor(0., device='cuda:0')\n",
      "features.8.weight tensor(0., device='cuda:0')\n",
      "features.8.bias tensor(0., device='cuda:0')\n",
      "features.11.weight tensor(0., device='cuda:0')\n",
      "features.11.bias tensor(0., device='cuda:0')\n",
      "features.13.weight tensor(0., device='cuda:0')\n",
      "features.13.bias tensor(0., device='cuda:0')\n",
      "features.16.weight tensor(0., device='cuda:0')\n",
      "features.16.bias tensor(7.6204e-05, device='cuda:0')\n",
      "features.18.weight tensor(3.5673e-08, device='cuda:0')\n",
      "features.18.bias tensor(4.4045e-06, device='cuda:0')\n",
      "classifier.0.weight tensor(3.3780e-09, device='cuda:0')\n",
      "classifier.0.bias tensor(1.4323e-07, device='cuda:0')\n",
      "classifier.3.weight tensor(1.0081e-07, device='cuda:0')\n",
      "classifier.3.bias tensor(6.1836e-07, device='cuda:0')\n",
      "classifier.6.weight tensor(5.2296e-13, device='cuda:0')\n",
      "classifier.6.bias tensor(7.4506e-10, device='cuda:0')\n"
     ]
    }
   ],
   "source": [
    "#print(summary(model, (3, 32, 32)))\n",
    "for name, param in model.named_parameters():\n",
    "    if param.requires_grad and param.grad is not None:\n",
    "        print(name, param.grad.mean())"
   ]
  },
  {
   "cell_type": "code",
   "execution_count": 47,
   "metadata": {},
   "outputs": [
    {
     "name": "stderr",
     "output_type": "stream",
     "text": [
      "100%|██████████| 547/547 [00:06<00:00, 78.44it/s]\n"
     ]
    },
    {
     "name": "stdout",
     "output_type": "stream",
     "text": [
      "Epoch [1/10], Train_Loss: 0.8252, Train_Accuracy: 71.51%\n"
     ]
    },
    {
     "name": "stderr",
     "output_type": "stream",
     "text": [
      "100%|██████████| 118/118 [00:00<00:00, 146.44it/s]\n"
     ]
    },
    {
     "name": "stdout",
     "output_type": "stream",
     "text": [
      "Epoch [1/10], Val_Loss: 0.1353, Val_Accuracy: 78.27%\n"
     ]
    },
    {
     "name": "stderr",
     "output_type": "stream",
     "text": [
      "100%|██████████| 547/547 [00:06<00:00, 78.81it/s]\n"
     ]
    },
    {
     "name": "stdout",
     "output_type": "stream",
     "text": [
      "Epoch [2/10], Train_Loss: 0.4874, Train_Accuracy: 83.08%\n"
     ]
    },
    {
     "name": "stderr",
     "output_type": "stream",
     "text": [
      "100%|██████████| 118/118 [00:00<00:00, 149.37it/s]\n"
     ]
    },
    {
     "name": "stdout",
     "output_type": "stream",
     "text": [
      "Epoch [2/10], Val_Loss: 0.1264, Val_Accuracy: 79.68%\n"
     ]
    },
    {
     "name": "stderr",
     "output_type": "stream",
     "text": [
      "100%|██████████| 547/547 [00:06<00:00, 79.58it/s]\n"
     ]
    },
    {
     "name": "stdout",
     "output_type": "stream",
     "text": [
      "Epoch [3/10], Train_Loss: 0.3387, Train_Accuracy: 88.22%\n"
     ]
    },
    {
     "name": "stderr",
     "output_type": "stream",
     "text": [
      "100%|██████████| 118/118 [00:00<00:00, 150.70it/s]\n"
     ]
    },
    {
     "name": "stdout",
     "output_type": "stream",
     "text": [
      "Epoch [3/10], Val_Loss: 0.1278, Val_Accuracy: 81.04%\n"
     ]
    },
    {
     "name": "stderr",
     "output_type": "stream",
     "text": [
      "100%|██████████| 547/547 [00:07<00:00, 77.86it/s]\n"
     ]
    },
    {
     "name": "stdout",
     "output_type": "stream",
     "text": [
      "Epoch [4/10], Train_Loss: 0.2326, Train_Accuracy: 91.81%\n"
     ]
    },
    {
     "name": "stderr",
     "output_type": "stream",
     "text": [
      "100%|██████████| 118/118 [00:00<00:00, 143.76it/s]\n"
     ]
    },
    {
     "name": "stdout",
     "output_type": "stream",
     "text": [
      "Epoch [4/10], Val_Loss: 0.1216, Val_Accuracy: 83.07%\n"
     ]
    },
    {
     "name": "stderr",
     "output_type": "stream",
     "text": [
      "100%|██████████| 547/547 [00:07<00:00, 74.28it/s]\n"
     ]
    },
    {
     "name": "stdout",
     "output_type": "stream",
     "text": [
      "Epoch [5/10], Train_Loss: 0.1489, Train_Accuracy: 94.93%\n"
     ]
    },
    {
     "name": "stderr",
     "output_type": "stream",
     "text": [
      "100%|██████████| 118/118 [00:00<00:00, 147.08it/s]\n"
     ]
    },
    {
     "name": "stdout",
     "output_type": "stream",
     "text": [
      "Epoch [5/10], Val_Loss: 0.1289, Val_Accuracy: 83.11%\n"
     ]
    },
    {
     "name": "stderr",
     "output_type": "stream",
     "text": [
      "100%|██████████| 547/547 [00:07<00:00, 77.85it/s]\n"
     ]
    },
    {
     "name": "stdout",
     "output_type": "stream",
     "text": [
      "Epoch [6/10], Train_Loss: 0.0901, Train_Accuracy: 96.98%\n"
     ]
    },
    {
     "name": "stderr",
     "output_type": "stream",
     "text": [
      "100%|██████████| 118/118 [00:00<00:00, 143.37it/s]\n"
     ]
    },
    {
     "name": "stdout",
     "output_type": "stream",
     "text": [
      "Epoch [6/10], Val_Loss: 0.1439, Val_Accuracy: 83.37%\n"
     ]
    },
    {
     "name": "stderr",
     "output_type": "stream",
     "text": [
      "100%|██████████| 547/547 [00:06<00:00, 78.49it/s]\n"
     ]
    },
    {
     "name": "stdout",
     "output_type": "stream",
     "text": [
      "Epoch [7/10], Train_Loss: 0.0566, Train_Accuracy: 98.17%\n"
     ]
    },
    {
     "name": "stderr",
     "output_type": "stream",
     "text": [
      "100%|██████████| 118/118 [00:00<00:00, 146.56it/s]\n"
     ]
    },
    {
     "name": "stdout",
     "output_type": "stream",
     "text": [
      "Epoch [7/10], Val_Loss: 0.1622, Val_Accuracy: 83.47%\n"
     ]
    },
    {
     "name": "stderr",
     "output_type": "stream",
     "text": [
      "100%|██████████| 547/547 [00:07<00:00, 77.58it/s]\n"
     ]
    },
    {
     "name": "stdout",
     "output_type": "stream",
     "text": [
      "Epoch [8/10], Train_Loss: 0.0340, Train_Accuracy: 98.95%\n"
     ]
    },
    {
     "name": "stderr",
     "output_type": "stream",
     "text": [
      "100%|██████████| 118/118 [00:00<00:00, 144.81it/s]\n"
     ]
    },
    {
     "name": "stdout",
     "output_type": "stream",
     "text": [
      "Epoch [8/10], Val_Loss: 0.1734, Val_Accuracy: 83.84%\n"
     ]
    },
    {
     "name": "stderr",
     "output_type": "stream",
     "text": [
      "100%|██████████| 547/547 [00:07<00:00, 77.11it/s]\n"
     ]
    },
    {
     "name": "stdout",
     "output_type": "stream",
     "text": [
      "Epoch [9/10], Train_Loss: 0.0163, Train_Accuracy: 99.59%\n"
     ]
    },
    {
     "name": "stderr",
     "output_type": "stream",
     "text": [
      "100%|██████████| 118/118 [00:00<00:00, 144.70it/s]\n"
     ]
    },
    {
     "name": "stdout",
     "output_type": "stream",
     "text": [
      "Epoch [9/10], Val_Loss: 0.1870, Val_Accuracy: 84.56%\n"
     ]
    },
    {
     "name": "stderr",
     "output_type": "stream",
     "text": [
      "100%|██████████| 547/547 [00:07<00:00, 77.36it/s]\n"
     ]
    },
    {
     "name": "stdout",
     "output_type": "stream",
     "text": [
      "Epoch [10/10], Train_Loss: 0.0213, Train_Accuracy: 99.45%\n"
     ]
    },
    {
     "name": "stderr",
     "output_type": "stream",
     "text": [
      "100%|██████████| 118/118 [00:00<00:00, 145.44it/s]"
     ]
    },
    {
     "name": "stdout",
     "output_type": "stream",
     "text": [
      "Epoch [10/10], Val_Loss: 0.1813, Val_Accuracy: 84.47%\n"
     ]
    },
    {
     "name": "stderr",
     "output_type": "stream",
     "text": [
      "\n"
     ]
    }
   ],
   "source": [
    "epochs = 10\n",
    "lr = 1e-2\n",
    "criterion = torch.nn.CrossEntropyLoss()\n",
    "optimizer = torch.optim.SGD(model.parameters(), lr=lr)\n",
    "\n",
    "for epoch in range(epochs):\n",
    "    model.train()\n",
    "    train_running_loss = val_running_loss = 0.0\n",
    "    train_corr = val_corr = 0\n",
    "    train_total = val_total = 0\n",
    "\n",
    "    for batch in tqdm(train_loader):\n",
    "\n",
    "        x, y = batch\n",
    "        x = x.to(device)\n",
    "        y = y.to(device)\n",
    "\n",
    "        # Zero the parameter gradients\n",
    "        optimizer.zero_grad()\n",
    "\n",
    "        # Forward pass\n",
    "        outputs = model(x)\n",
    "        loss = criterion(outputs, y)\n",
    "\n",
    "        # Backward pass and optimization\n",
    "        loss.backward()\n",
    "        optimizer.step()\n",
    "\n",
    "        # Accumulate loss and accuracy\n",
    "        train_running_loss += loss.item()\n",
    "        predicted = torch.argmax(outputs, axis=1)\n",
    "        train_total += y.size(0)\n",
    "        train_corr += predicted.eq(y).sum().item()\n",
    "\n",
    "    print(f\"Epoch [{epoch+1}/{epochs}], Train_Loss: {train_running_loss/len(train_loader):.4f}, Train_Accuracy: {100. * train_corr / train_total:.2f}%\")\n",
    "\n",
    "    for batch in tqdm(val_loader):\n",
    "\n",
    "        x, y = batch\n",
    "        x = x.to(device)\n",
    "        y = y.to(device)\n",
    "\n",
    "        # Forward pass\n",
    "        outputs = model(x)\n",
    "        loss = criterion(outputs, y)\n",
    "\n",
    "        # Accumulate loss and accuracy\n",
    "        val_running_loss += loss.item()\n",
    "        predicted = torch.argmax(outputs, axis=1)\n",
    "        val_total += y.size(0)\n",
    "        val_corr += predicted.eq(y).sum().item()\n",
    "\n",
    "    print(f\"Epoch [{epoch+1}/{epochs}], Val_Loss: {val_running_loss/len(train_loader):.4f}, Val_Accuracy: {100. * val_corr / val_total:.2f}%\")\n",
    "\n"
   ]
  },
  {
   "cell_type": "code",
   "execution_count": 50,
   "metadata": {},
   "outputs": [],
   "source": [
    "# Save model\n",
    "path = os.path.join(os.path.join(os.path.dirname(os.getcwd()), \"models\"), \"vgg11_cifar10.pth\")\n",
    "torch.save(model.state_dict(), path)"
   ]
  },
  {
   "cell_type": "code",
   "execution_count": null,
   "metadata": {},
   "outputs": [],
   "source": []
  }
 ],
 "metadata": {
  "kernelspec": {
   "display_name": "srgan",
   "language": "python",
   "name": "python3"
  },
  "language_info": {
   "codemirror_mode": {
    "name": "ipython",
    "version": 3
   },
   "file_extension": ".py",
   "mimetype": "text/x-python",
   "name": "python",
   "nbconvert_exporter": "python",
   "pygments_lexer": "ipython3",
   "version": "3.10.12"
  }
 },
 "nbformat": 4,
 "nbformat_minor": 2
}
